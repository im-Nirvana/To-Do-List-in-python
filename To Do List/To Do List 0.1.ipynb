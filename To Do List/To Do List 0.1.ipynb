{
 "cells": [
  {
   "cell_type": "code",
   "execution_count": 2,
   "id": "1079af22",
   "metadata": {},
   "outputs": [],
   "source": [
    "import csv\n",
    "import pandas as pd\n",
    "import datetime\n",
    "from datetime import date"
   ]
  },
  {
   "cell_type": "code",
   "execution_count": 3,
   "id": "10fbfb24",
   "metadata": {},
   "outputs": [],
   "source": [
    "def Home():\n",
    "    print(\"Welcome to To Do List Program\")\n",
    "    print(\"1. Add a new task\")\n",
    "    print(\"2. view tasks\")\n",
    "    print(\"3. Update progress\")\n",
    "    print(\"4. Mark a task as complete\")\n",
    "    print(\"5. Delete an existing task\")\n",
    "    print(\"6. Set a reminder\")\n",
    "    "
   ]
  },
  {
   "cell_type": "code",
   "execution_count": 4,
   "id": "73527407",
   "metadata": {},
   "outputs": [],
   "source": [
    "def Add_task():\n",
    "    \n",
    "    print(\"Add a task here\")\n",
    "#### Opening or creating a file\n",
    "    with open(\"C:/Users/sini1002/Documents/Python Scripts/To Do List/To do list.csv\", \"a\", newline=\"\") as file:\n",
    "        myfile = csv.writer(file)\n",
    "        \n",
    "## Writing the columns headers\n",
    "       # myfile.writerow([\"TaskNo.\", \"TaskName\", \"TargetDate\", \"TaskDate\", \"PercentageAch\" ])\n",
    "\n",
    "### Getting the no of tasks to be addded\n",
    "        noOfTask = int(input(\"Enter the no. of task you want to enter : \")) \n",
    "\n",
    "### USing for loop to add tasks\n",
    "        for i in range(noOfTask):\n",
    "            Tno = int(input(\"Enter Task No. : \"))\n",
    "            Tnam = input(\"Enter the task name : \")\n",
    "            userDate = input(\"Enter a date in YYYY-MM-DD format : \")\n",
    "            year, month, day = map(int, userDate.split('-'))\n",
    "            TargetDate = datetime.date(year, month, day)\n",
    "            TaskDate = date.today()\n",
    "            PerAch = int(input(\"Enetr Percentage of Task achieve by now (in numbers): \"))\n",
    "            myfile.writerow([Tno, Tnam, TargetDate, TaskDate, PerAch])\n",
    "            \n"
   ]
  },
  {
   "cell_type": "code",
   "execution_count": 5,
   "id": "4c0822fc",
   "metadata": {},
   "outputs": [],
   "source": [
    "def View_task():\n",
    "    df = pd.read_csv(\"C:/Users/sini1002/Documents/Python Scripts/To Do List/To do list.csv\")\n",
    "    print(df)\n",
    "    dv = int(input(\"Enter the task number you want to View : \"))\n",
    "    print(df.loc[df['TaskNo.'] == dv])"
   ]
  },
  {
   "cell_type": "code",
   "execution_count": 6,
   "id": "51dbcb1f",
   "metadata": {},
   "outputs": [],
   "source": [
    "def Edit_task():\n",
    "    print(\"Edit a task here\")\n",
    "    \n",
    "    \n",
    "    \n",
    "\n",
    "    \n",
    "    \n",
    "\n",
    "    \n",
    "    \n"
   ]
  },
  {
   "cell_type": "code",
   "execution_count": 7,
   "id": "e3d39f8d",
   "metadata": {},
   "outputs": [],
   "source": [
    "def cmp_task():\n",
    "    print(\"Mark as Complete a task here\")"
   ]
  },
  {
   "cell_type": "code",
   "execution_count": 8,
   "id": "9f98a3c9",
   "metadata": {},
   "outputs": [],
   "source": [
    "def Del_task():\n",
    "    print(\"Delete a task here\")\n",
    "    dfd = pd.read_csv(\"C:/Users/sini1002/Documents/Python Scripts/To Do List/To do list.csv\")\n",
    "    print(\"You can opt for view task to get a list of all the tasks!!\")\n",
    "    dt = int(input(\"Enter the task number you want to delete : \"))\n",
    "    df1 = dfd.loc[dfd['TaskNo.'] != dt]\n",
    "    df1.to_csv(\"C:/Users/sini1002/Documents/Python Scripts/To Do List/To do list.csv\")"
   ]
  },
  {
   "cell_type": "code",
   "execution_count": 9,
   "id": "cb19c212",
   "metadata": {},
   "outputs": [],
   "source": [
    "def set_rem():\n",
    "    print(\"Set Reminder\")"
   ]
  },
  {
   "cell_type": "code",
   "execution_count": 45,
   "id": "02ca6214",
   "metadata": {},
   "outputs": [
    {
     "name": "stdout",
     "output_type": "stream",
     "text": [
      "Welcome to To Do List Program\n",
      "1. Add a new task\n",
      "2. Edit an existing task\n",
      "3. Mark a task as complete\n",
      "4. Delete an existing task\n",
      "5. Set a reminder\n",
      "Enter your Choice : 1\n",
      "Add a task here\n",
      "Enter the no. of task you want to enter : 5\n",
      "Enter Task No. : 101\n",
      "Enter the task name : web scrapping\n",
      "Enter a date in YYYY-MM-DD format : 2022-11-11\n",
      "Enetr Percentage of Task achieve by now (in numbers): 13\n",
      "Enter Task No. : 102\n",
      "Enter the task name : web app\n",
      "Enter a date in YYYY-MM-DD format : 2022-12-14\n",
      "Enetr Percentage of Task achieve by now (in numbers): 3\n",
      "Enter Task No. : 103\n",
      "Enter the task name : planning\n",
      "Enter a date in YYYY-MM-DD format : 2022-10-10\n",
      "Enetr Percentage of Task achieve by now (in numbers): 95\n",
      "Enter Task No. : 104\n",
      "Enter the task name : execution\n",
      "Enter a date in YYYY-MM-DD format : 2022-11-01\n",
      "Enetr Percentage of Task achieve by now (in numbers): 0\n",
      "Enter Task No. : 105\n",
      "Enter the task name : Self time\n",
      "Enter a date in YYYY-MM-DD format : 2022-12-12\n",
      "Enetr Percentage of Task achieve by now (in numbers): 0\n"
     ]
    }
   ],
   "source": [
    "# Main program\n",
    "if __name__ == '__main__':\n",
    "    Home()\n",
    "    ch = int(input(\"Enter your Choice : \"))\n",
    "    \n",
    "    if ch in(1,2,3,4,5):\n",
    "        \n",
    "        if ch == 1:\n",
    "            Add_task()\n",
    "            \n",
    "        elif ch == 2:\n",
    "            View_task()\n",
    "            \n",
    "        elif ch == 3:\n",
    "            Edit_task()\n",
    "            \n",
    "        elif ch == 4:\n",
    "            cmp_task()\n",
    "            \n",
    "        elif ch == 5:\n",
    "            Del_task()\n",
    "            \n",
    "        elif ch == 6:\n",
    "            set_rem()\n",
    "            \n",
    "    else :\n",
    "        print(\"Invalid Input\")"
   ]
  },
  {
   "cell_type": "code",
   "execution_count": 10,
   "id": "6418f0b1",
   "metadata": {},
   "outputs": [],
   "source": [
    "df = pd.read_csv(\"C:/Users/sini1002/Documents/Python Scripts/To Do List/To do list.csv\")"
   ]
  },
  {
   "cell_type": "code",
   "execution_count": 29,
   "id": "5d530a85",
   "metadata": {},
   "outputs": [
    {
     "name": "stdout",
     "output_type": "stream",
     "text": [
      "   TaskNo.  TaskName TargetDate   TaskDate  PercentageAch\n",
      "2      103  planning  4/20/2022  4/14/2022              0\n"
     ]
    }
   ],
   "source": [
    "#print(df.loc[df['TaskNo.'] == 103])"
   ]
  },
  {
   "cell_type": "code",
   "execution_count": 49,
   "id": "1ab11742",
   "metadata": {},
   "outputs": [
    {
     "data": {
      "text/html": [
       "<div>\n",
       "<style scoped>\n",
       "    .dataframe tbody tr th:only-of-type {\n",
       "        vertical-align: middle;\n",
       "    }\n",
       "\n",
       "    .dataframe tbody tr th {\n",
       "        vertical-align: top;\n",
       "    }\n",
       "\n",
       "    .dataframe thead th {\n",
       "        text-align: right;\n",
       "    }\n",
       "</style>\n",
       "<table border=\"1\" class=\"dataframe\">\n",
       "  <thead>\n",
       "    <tr style=\"text-align: right;\">\n",
       "      <th></th>\n",
       "      <th>TaskNo.</th>\n",
       "      <th>TaskName</th>\n",
       "      <th>TargetDate</th>\n",
       "      <th>TaskDate</th>\n",
       "      <th>PercentageAch</th>\n",
       "    </tr>\n",
       "  </thead>\n",
       "  <tbody>\n",
       "    <tr>\n",
       "      <th>0</th>\n",
       "      <td>101</td>\n",
       "      <td>web scrapping</td>\n",
       "      <td>11/11/2022</td>\n",
       "      <td>10/6/2022</td>\n",
       "      <td>13</td>\n",
       "    </tr>\n",
       "    <tr>\n",
       "      <th>1</th>\n",
       "      <td>102</td>\n",
       "      <td>web app</td>\n",
       "      <td>12/14/2022</td>\n",
       "      <td>10/6/2022</td>\n",
       "      <td>3</td>\n",
       "    </tr>\n",
       "    <tr>\n",
       "      <th>2</th>\n",
       "      <td>103</td>\n",
       "      <td>planning</td>\n",
       "      <td>10/10/2022</td>\n",
       "      <td>10/6/2022</td>\n",
       "      <td>95</td>\n",
       "    </tr>\n",
       "    <tr>\n",
       "      <th>3</th>\n",
       "      <td>104</td>\n",
       "      <td>execution</td>\n",
       "      <td>11/1/2022</td>\n",
       "      <td>10/6/2022</td>\n",
       "      <td>0</td>\n",
       "    </tr>\n",
       "    <tr>\n",
       "      <th>4</th>\n",
       "      <td>105</td>\n",
       "      <td>Self time</td>\n",
       "      <td>12/12/2022</td>\n",
       "      <td>10/6/2022</td>\n",
       "      <td>0</td>\n",
       "    </tr>\n",
       "  </tbody>\n",
       "</table>\n",
       "</div>"
      ],
      "text/plain": [
       "   TaskNo.       TaskName  TargetDate   TaskDate  PercentageAch\n",
       "0      101  web scrapping  11/11/2022  10/6/2022             13\n",
       "1      102        web app  12/14/2022  10/6/2022              3\n",
       "2      103       planning  10/10/2022  10/6/2022             95\n",
       "3      104      execution   11/1/2022  10/6/2022              0\n",
       "4      105      Self time  12/12/2022  10/6/2022              0"
      ]
     },
     "execution_count": 49,
     "metadata": {},
     "output_type": "execute_result"
    }
   ],
   "source": [
    "df"
   ]
  },
  {
   "cell_type": "code",
   "execution_count": 12,
   "id": "bebcf829",
   "metadata": {},
   "outputs": [
    {
     "name": "stdout",
     "output_type": "stream",
     "text": [
      "Enter the task number you want to delete : 101\n"
     ]
    },
    {
     "ename": "TypeError",
     "evalue": "list indices must be integers or slices, not list",
     "output_type": "error",
     "traceback": [
      "\u001b[1;31m---------------------------------------------------------------------------\u001b[0m",
      "\u001b[1;31mTypeError\u001b[0m                                 Traceback (most recent call last)",
      "\u001b[1;32m~\\AppData\\Local\\Temp\\1/ipykernel_4864/2816403283.py\u001b[0m in \u001b[0;36m<module>\u001b[1;34m\u001b[0m\n\u001b[0;32m     13\u001b[0m     \u001b[0mwriter\u001b[0m \u001b[1;33m=\u001b[0m \u001b[0mcsv\u001b[0m\u001b[1;33m.\u001b[0m\u001b[0mwriter\u001b[0m\u001b[1;33m(\u001b[0m\u001b[0mwriteFile\u001b[0m\u001b[1;33m)\u001b[0m\u001b[1;33m\u001b[0m\u001b[1;33m\u001b[0m\u001b[0m\n\u001b[0;32m     14\u001b[0m     \u001b[1;32mfor\u001b[0m \u001b[0mline\u001b[0m \u001b[1;32min\u001b[0m \u001b[0mlines\u001b[0m \u001b[1;33m:\u001b[0m\u001b[1;33m\u001b[0m\u001b[1;33m\u001b[0m\u001b[0m\n\u001b[1;32m---> 15\u001b[1;33m         \u001b[0mwriter\u001b[0m\u001b[1;33m.\u001b[0m\u001b[0mwriterow\u001b[0m\u001b[1;33m(\u001b[0m\u001b[0mlines\u001b[0m\u001b[1;33m[\u001b[0m\u001b[0mline\u001b[0m\u001b[1;33m]\u001b[0m\u001b[1;33m)\u001b[0m\u001b[1;33m\u001b[0m\u001b[1;33m\u001b[0m\u001b[0m\n\u001b[0m",
      "\u001b[1;31mTypeError\u001b[0m: list indices must be integers or slices, not list"
     ]
    }
   ],
   "source": [
    "# lines = list()\n",
    "# #memberName = input(\"Please enter a member's name to be deleted.\")\n",
    "# dt = int(input(\"Enter the task number you want to delete : \"))\n",
    "# with open(\"C:/Users/sini1002/Documents/Python Scripts/To Do List/To do list.csv\", 'r') as readFile:\n",
    "#     reader = csv.reader(readFile)\n",
    "#     for row in reader:\n",
    "#         lines.append(row)\n",
    "#         for field in row:\n",
    "#             if field == dt:\n",
    "#                 lines.remove(row)\n",
    "\n",
    "# with open(\"C:/Users/sini1002/Documents/Python Scripts/To Do List/To do list1.csv\", 'w') as writeFile:\n",
    "#     writer = csv.writer(writeFile)\n",
    "#     for line in lines :\n",
    "#         writer.writerow(lines[line])"
   ]
  },
  {
   "cell_type": "code",
   "execution_count": 11,
   "id": "3c031697",
   "metadata": {},
   "outputs": [
    {
     "data": {
      "text/html": [
       "<div>\n",
       "<style scoped>\n",
       "    .dataframe tbody tr th:only-of-type {\n",
       "        vertical-align: middle;\n",
       "    }\n",
       "\n",
       "    .dataframe tbody tr th {\n",
       "        vertical-align: top;\n",
       "    }\n",
       "\n",
       "    .dataframe thead th {\n",
       "        text-align: right;\n",
       "    }\n",
       "</style>\n",
       "<table border=\"1\" class=\"dataframe\">\n",
       "  <thead>\n",
       "    <tr style=\"text-align: right;\">\n",
       "      <th></th>\n",
       "      <th>TaskNo.</th>\n",
       "      <th>TaskName</th>\n",
       "      <th>TargetDate</th>\n",
       "      <th>TaskDate</th>\n",
       "      <th>PercentageAch</th>\n",
       "    </tr>\n",
       "  </thead>\n",
       "  <tbody>\n",
       "    <tr>\n",
       "      <th>0</th>\n",
       "      <td>101</td>\n",
       "      <td>web scrapping</td>\n",
       "      <td>11/11/2022</td>\n",
       "      <td>10/6/2022</td>\n",
       "      <td>13</td>\n",
       "    </tr>\n",
       "    <tr>\n",
       "      <th>1</th>\n",
       "      <td>102</td>\n",
       "      <td>web app</td>\n",
       "      <td>12/14/2022</td>\n",
       "      <td>10/6/2022</td>\n",
       "      <td>3</td>\n",
       "    </tr>\n",
       "    <tr>\n",
       "      <th>2</th>\n",
       "      <td>103</td>\n",
       "      <td>planning</td>\n",
       "      <td>10/10/2022</td>\n",
       "      <td>10/6/2022</td>\n",
       "      <td>95</td>\n",
       "    </tr>\n",
       "    <tr>\n",
       "      <th>3</th>\n",
       "      <td>104</td>\n",
       "      <td>execution</td>\n",
       "      <td>11/1/2022</td>\n",
       "      <td>10/6/2022</td>\n",
       "      <td>0</td>\n",
       "    </tr>\n",
       "    <tr>\n",
       "      <th>4</th>\n",
       "      <td>105</td>\n",
       "      <td>Self time</td>\n",
       "      <td>12/12/2022</td>\n",
       "      <td>10/6/2022</td>\n",
       "      <td>0</td>\n",
       "    </tr>\n",
       "  </tbody>\n",
       "</table>\n",
       "</div>"
      ],
      "text/plain": [
       "   TaskNo.       TaskName  TargetDate   TaskDate  PercentageAch\n",
       "0      101  web scrapping  11/11/2022  10/6/2022             13\n",
       "1      102        web app  12/14/2022  10/6/2022              3\n",
       "2      103       planning  10/10/2022  10/6/2022             95\n",
       "3      104      execution   11/1/2022  10/6/2022              0\n",
       "4      105      Self time  12/12/2022  10/6/2022              0"
      ]
     },
     "execution_count": 11,
     "metadata": {},
     "output_type": "execute_result"
    }
   ],
   "source": [
    "df"
   ]
  },
  {
   "cell_type": "code",
   "execution_count": 18,
   "id": "c8d55fff",
   "metadata": {},
   "outputs": [
    {
     "name": "stdout",
     "output_type": "stream",
     "text": [
      "   TaskNo.       TaskName  TargetDate   TaskDate  PercentageAch\n",
      "0      101  web scrapping  11/11/2022  10/6/2022             13\n",
      "1      102        web app  12/14/2022  10/6/2022              3\n",
      "3      104      execution   11/1/2022  10/6/2022              0\n",
      "4      105      Self time  12/12/2022  10/6/2022              0\n"
     ]
    }
   ],
   "source": [
    "# print(df.loc[df['TaskNo.'] != dt])"
   ]
  },
  {
   "cell_type": "code",
   "execution_count": 17,
   "id": "87659171",
   "metadata": {},
   "outputs": [
    {
     "name": "stdout",
     "output_type": "stream",
     "text": [
      "Enter the task number you want to delete : 103\n"
     ]
    }
   ],
   "source": [
    "# dt = int(input(\"Enter the task number you want to delete : \"))\n"
   ]
  },
  {
   "cell_type": "code",
   "execution_count": 15,
   "id": "9cb85311",
   "metadata": {},
   "outputs": [
    {
     "data": {
      "text/html": [
       "<div>\n",
       "<style scoped>\n",
       "    .dataframe tbody tr th:only-of-type {\n",
       "        vertical-align: middle;\n",
       "    }\n",
       "\n",
       "    .dataframe tbody tr th {\n",
       "        vertical-align: top;\n",
       "    }\n",
       "\n",
       "    .dataframe thead th {\n",
       "        text-align: right;\n",
       "    }\n",
       "</style>\n",
       "<table border=\"1\" class=\"dataframe\">\n",
       "  <thead>\n",
       "    <tr style=\"text-align: right;\">\n",
       "      <th></th>\n",
       "      <th>TaskNo.</th>\n",
       "      <th>TaskName</th>\n",
       "      <th>TargetDate</th>\n",
       "      <th>TaskDate</th>\n",
       "      <th>PercentageAch</th>\n",
       "    </tr>\n",
       "  </thead>\n",
       "  <tbody>\n",
       "    <tr>\n",
       "      <th>0</th>\n",
       "      <td>101</td>\n",
       "      <td>web scrapping</td>\n",
       "      <td>11/11/2022</td>\n",
       "      <td>10/6/2022</td>\n",
       "      <td>13</td>\n",
       "    </tr>\n",
       "    <tr>\n",
       "      <th>1</th>\n",
       "      <td>102</td>\n",
       "      <td>web app</td>\n",
       "      <td>12/14/2022</td>\n",
       "      <td>10/6/2022</td>\n",
       "      <td>3</td>\n",
       "    </tr>\n",
       "    <tr>\n",
       "      <th>3</th>\n",
       "      <td>104</td>\n",
       "      <td>execution</td>\n",
       "      <td>11/1/2022</td>\n",
       "      <td>10/6/2022</td>\n",
       "      <td>0</td>\n",
       "    </tr>\n",
       "    <tr>\n",
       "      <th>4</th>\n",
       "      <td>105</td>\n",
       "      <td>Self time</td>\n",
       "      <td>12/12/2022</td>\n",
       "      <td>10/6/2022</td>\n",
       "      <td>0</td>\n",
       "    </tr>\n",
       "  </tbody>\n",
       "</table>\n",
       "</div>"
      ],
      "text/plain": [
       "   TaskNo.       TaskName  TargetDate   TaskDate  PercentageAch\n",
       "0      101  web scrapping  11/11/2022  10/6/2022             13\n",
       "1      102        web app  12/14/2022  10/6/2022              3\n",
       "3      104      execution   11/1/2022  10/6/2022              0\n",
       "4      105      Self time  12/12/2022  10/6/2022              0"
      ]
     },
     "execution_count": 15,
     "metadata": {},
     "output_type": "execute_result"
    }
   ],
   "source": [
    "# df1 = df.loc[df['TaskNo.'] != dt]\n",
    "# df1"
   ]
  },
  {
   "cell_type": "code",
   "execution_count": 16,
   "id": "2db037ff",
   "metadata": {},
   "outputs": [],
   "source": [
    "# df1.to_csv(\"C:/Users/sini1002/Documents/Python Scripts/To Do List/To do list1.csv\")"
   ]
  },
  {
   "cell_type": "code",
   "execution_count": null,
   "id": "e53ef9ec",
   "metadata": {},
   "outputs": [],
   "source": [
    "# Edit an existing Task or update the progress of a task\n",
    "print(\"Welcome to Task Editor :\")\n",
    "print(\"1. Edit an existing task\")\n",
    "print(\"2. Update Progress of an existing task\")\n",
    "opt = int(input(\"Enter your Choice : \"))\n",
    "    \n",
    "    if opt in(1,2):\n",
    "        \n",
    "        if opt == 1:\n",
    "            Add_task()\n",
    "            \n",
    "        elif opt == 2:\n",
    "            View_task()"
   ]
  },
  {
   "cell_type": "code",
   "execution_count": null,
   "id": "ed0be4e4",
   "metadata": {},
   "outputs": [],
   "source": [
    "df.loc[5, 'Name'] = 'SHIV CHANDRA'"
   ]
  }
 ],
 "metadata": {
  "kernelspec": {
   "display_name": "Python 3 (ipykernel)",
   "language": "python",
   "name": "python3"
  },
  "language_info": {
   "codemirror_mode": {
    "name": "ipython",
    "version": 3
   },
   "file_extension": ".py",
   "mimetype": "text/x-python",
   "name": "python",
   "nbconvert_exporter": "python",
   "pygments_lexer": "ipython3",
   "version": "3.9.7"
  }
 },
 "nbformat": 4,
 "nbformat_minor": 5
}
