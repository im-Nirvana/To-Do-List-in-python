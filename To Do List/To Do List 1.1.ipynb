{
 "cells": [
  {
   "cell_type": "code",
   "execution_count": 1,
   "id": "aaccf6ab",
   "metadata": {},
   "outputs": [],
   "source": [
    "import csv\n",
    "import os\n",
    "import pandas as pd\n",
    "import datetime\n",
    "from datetime import date"
   ]
  },
  {
   "cell_type": "code",
   "execution_count": 2,
   "id": "74e1e95e",
   "metadata": {},
   "outputs": [],
   "source": [
    "file_name = \"C:/Users/sini1002/Documents/Python Scripts/To Do List/To do list.csv\"\n",
    "\n",
    "def Home():\n",
    "    print(\"Welcome to To Do List Program\")\n",
    "    print(\"1. Add a new task\")\n",
    "    print(\"2. view tasks\")\n",
    "    print(\"3. Edit a task\")\n",
    "    print(\"4. Mark a task as complete\")\n",
    "    print(\"5. Delete an existing task\")\n",
    "    print(\"6. Set a reminder\")"
   ]
  },
  {
   "cell_type": "code",
   "execution_count": 3,
   "id": "c2c72da6",
   "metadata": {},
   "outputs": [],
   "source": [
    "file_name = \"C:/Users/sini1002/Documents/Python Scripts/To Do List/To do list.csv\"\n",
    "def check_file(file_name):\n",
    "    File = os.path.isfile(file_name)\n",
    "    #print(File)\n",
    "    if File != True:\n",
    "        print(\"creating a file\")\n",
    "        with open(\"C:/Users/sini1002/Documents/Python Scripts/To Do List/To do list.csv\", \"a\", newline=\"\") as file:\n",
    "            myfile = csv.writer(file)\n",
    "## Writing the columns headers\n",
    "            myfile.writerow([\"TaskNo.\", \"TaskName\", \"TargetDate\", \"TaskDate\", \"PercentageAch\" ])"
   ]
  },
  {
   "cell_type": "code",
   "execution_count": 4,
   "id": "c655e5ef",
   "metadata": {},
   "outputs": [],
   "source": [
    "def Add_task():\n",
    "    \n",
    "    print(\"Add a task here\")\n",
    "    check_file(file_name)\n",
    "#### Opening or creating a file\n",
    "    with open(\"C:/Users/sini1002/Documents/Python Scripts/To Do List/To do list.csv\", \"a\", newline=\"\") as file:\n",
    "        myfile = csv.writer(file)\n",
    "        \n",
    "## Writing the columns headers\n",
    "       # myfile.writerow([\"TaskNo.\", \"TaskName\", \"TargetDate\", \"TaskDate\", \"PercentageAch\" ])\n",
    "\n",
    "### Getting the no of tasks to be addded\n",
    "        noOfTask = int(input(\"Enter the no. of task you want to enter : \")) \n",
    "\n",
    "### USing for loop to add tasks\n",
    "        for i in range(noOfTask):\n",
    "            Tno = int(input(\"Enter Task No. : \"))\n",
    "            Tnam = input(\"Enter the task name : \")\n",
    "            userDate = input(\"Enter a date in YYYY-MM-DD format : \")\n",
    "            year, month, day = map(int, userDate.split('-'))\n",
    "            TargetDate = datetime.date(year, month, day)\n",
    "            TaskDate = date.today()\n",
    "            PerAch = int(input(\"Enetr Percentage of Task achieve by now (in numbers): \"))\n",
    "            myfile.writerow([Tno, Tnam, TargetDate, TaskDate, PerAch])"
   ]
  },
  {
   "cell_type": "code",
   "execution_count": 5,
   "id": "7abfd7e7",
   "metadata": {},
   "outputs": [],
   "source": [
    "def View_task():\n",
    "    dvw = pd.read_csv(\"C:/Users/sini1002/Documents/Python Scripts/To Do List/To do list.csv\")\n",
    "    print(dvw)\n",
    "    dv = int(input(\"Enter the task number you want to View : \"))\n",
    "    print(dvw.loc[dvw['TaskNo.'] == dv])"
   ]
  },
  {
   "cell_type": "code",
   "execution_count": 6,
   "id": "9a3f8c06",
   "metadata": {},
   "outputs": [],
   "source": [
    "def Edit_task():\n",
    "    print(\"Edit a task here\")\n",
    "    de = pd.read_csv(\"C:/Users/sini1002/Documents/Python Scripts/To Do List/To do list.csv\")\n",
    "    print(\"Here's list of all the tasks for your convenience!!\")\n",
    "    print(de)\n",
    "    et = int(input(\"Enter the task number you want to edit : \"))\n",
    "    e=de.index[de['TaskNo.'] == et].tolist() \n",
    "    Tno = int(input(\"Enter Task No. : \"))\n",
    "    Tnam = input(\"Enter the task name : \")\n",
    "    userDate = input(\"Enter a date in YYYY-MM-DD format : \")\n",
    "    year, month, day = map(int, userDate.split('-'))\n",
    "    TargetDate = datetime.date(year, month, day)\n",
    "    TaskDate = date.today()\n",
    "    PerAch = int(input(\"Enetr Percentage of Task achieve by now (in numbers): \"))\n",
    "    de.at[e[0],'TaskNo.']=Tno\n",
    "    de.at[e[0],'TaskName']=Tnam\n",
    "    de.at[e[0],'TargetDate']=TargetDate\n",
    "    de.at[e[0],'TaskDate']=TaskDate\n",
    "    de.at[e[0],'PercentageAch']=PerAch  \n",
    "    de.to_csv(\"C:/Users/sini1002/Documents/Python Scripts/To Do List/To do list.csv\", index = False)"
   ]
  },
  {
   "cell_type": "code",
   "execution_count": 7,
   "id": "b1ce46c4",
   "metadata": {},
   "outputs": [],
   "source": [
    "def cmp_task():\n",
    "    print(\"Mark as Complete a task here\")\n",
    "    dct = pd.read_csv(\"C:/Users/sini1002/Documents/Python Scripts/To Do List/To do list.csv\")\n",
    "    print(\"Here's list of all the tasks for your convenience!!\")\n",
    "    print(dct)\n",
    "    dmc = int(input(\"Enter the task number you want to mark as complete : \"))\n",
    "    c=dct.index[dct['TaskNo.'] == dmc].tolist()\n",
    "    dct.at[c[0],'PercentageAch']=100  \n",
    "    dct.to_csv(\"C:/Users/sini1002/Documents/Python Scripts/To Do List/To do list.csv\", index = False)"
   ]
  },
  {
   "cell_type": "code",
   "execution_count": 8,
   "id": "3925be1c",
   "metadata": {},
   "outputs": [],
   "source": [
    "def Del_task():\n",
    "    print(\"Delete a task here\")\n",
    "    delt = pd.read_csv(\"C:/Users/sini1002/Documents/Python Scripts/To Do List/To do list.csv\")\n",
    "    print(\"Here's list of all the tasks for your convenience!!\")\n",
    "    print(delt)\n",
    "    dt = int(input(\"Enter the task number you want to delete : \"))\n",
    "    df1 = delt.loc[delt['TaskNo.'] != dt]\n",
    "    df1.to_csv(\"C:/Users/sini1002/Documents/Python Scripts/To Do List/To do list.csv\")"
   ]
  },
  {
   "cell_type": "code",
   "execution_count": 9,
   "id": "63b4f744",
   "metadata": {},
   "outputs": [],
   "source": [
    "def set_rem():\n",
    "    print(\"Set Reminder\")\n",
    "    \n",
    "#Can look into this part further \n",
    "#Refer Geeks for Geeks for reference\n",
    "#Link: https://www.geeksforgeeks.org/how-to-send-automated-email-messages-in-python/"
   ]
  },
  {
   "cell_type": "code",
   "execution_count": 10,
   "id": "c79250eb",
   "metadata": {},
   "outputs": [
    {
     "name": "stdout",
     "output_type": "stream",
     "text": [
      "Welcome to To Do List Program\n",
      "1. Add a new task\n",
      "2. view tasks\n",
      "3. Edit a task\n",
      "4. Mark a task as complete\n",
      "5. Delete an existing task\n",
      "6. Set a reminder\n",
      "Enter your Choice : 4\n",
      "Mark as Complete a task here\n",
      "Here's list of all the tasks for your convenience!!\n",
      "   TaskNo.       TaskName  TargetDate    TaskDate  PercentageAch\n",
      "0      101  web scrapping  11/11/2022   10/6/2022             13\n",
      "1      102        web app  12/14/2022   10/6/2022              3\n",
      "2      103       planning  10/10/2022   10/6/2022             95\n",
      "3      104      execution   11/1/2022   10/6/2022              0\n",
      "4      105       Plotting  2023-11-15  2022-12-29              9\n",
      "Enter the task number you want to mark as complete : 103\n"
     ]
    }
   ],
   "source": [
    "# Main program\n",
    "if __name__ == '__main__':\n",
    "    Home()\n",
    "    ch = int(input(\"Enter your Choice : \"))\n",
    "    \n",
    "    if ch in(1,2,3,4,5):\n",
    "        \n",
    "        if ch == 1:\n",
    "            Add_task()\n",
    "            \n",
    "        elif ch == 2:\n",
    "            View_task()\n",
    "            \n",
    "        elif ch == 3:\n",
    "            Edit_task()\n",
    "            \n",
    "        elif ch == 4:\n",
    "            cmp_task()\n",
    "            \n",
    "        elif ch == 5:\n",
    "            Del_task()\n",
    "            \n",
    "        elif ch == 6:\n",
    "            set_rem()\n",
    "            \n",
    "    else :\n",
    "        print(\"Invalid Input\")"
   ]
  },
  {
   "cell_type": "code",
   "execution_count": null,
   "id": "667e9378",
   "metadata": {},
   "outputs": [],
   "source": []
  },
  {
   "cell_type": "code",
   "execution_count": null,
   "id": "6c2bcf55",
   "metadata": {},
   "outputs": [],
   "source": []
  },
  {
   "cell_type": "code",
   "execution_count": null,
   "id": "27bd9e15",
   "metadata": {},
   "outputs": [],
   "source": []
  },
  {
   "cell_type": "code",
   "execution_count": null,
   "id": "655b37cd",
   "metadata": {},
   "outputs": [],
   "source": []
  },
  {
   "cell_type": "code",
   "execution_count": null,
   "id": "58cc5174",
   "metadata": {},
   "outputs": [],
   "source": []
  },
  {
   "cell_type": "code",
   "execution_count": null,
   "id": "42b55960",
   "metadata": {},
   "outputs": [],
   "source": []
  }
 ],
 "metadata": {
  "kernelspec": {
   "display_name": "Python 3 (ipykernel)",
   "language": "python",
   "name": "python3"
  },
  "language_info": {
   "codemirror_mode": {
    "name": "ipython",
    "version": 3
   },
   "file_extension": ".py",
   "mimetype": "text/x-python",
   "name": "python",
   "nbconvert_exporter": "python",
   "pygments_lexer": "ipython3",
   "version": "3.9.13"
  }
 },
 "nbformat": 4,
 "nbformat_minor": 5
}
